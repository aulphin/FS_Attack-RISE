{
  "cells": [
    {
      "cell_type": "markdown",
      "metadata": {
        "id": "view-in-github",
        "colab_type": "text"
      },
      "source": [
        "<a href=\"https://colab.research.google.com/github/aulphin/FS_Attack-RISE/blob/main/exp_Grad_cam%2B_FS_atk.ipynb\" target=\"_parent\"><img src=\"https://colab.research.google.com/assets/colab-badge.svg\" alt=\"Open In Colab\"/></a>"
      ]
    },
    {
      "cell_type": "code",
      "source": [
        "from google.colab import drive\n",
        "drive.mount('/content/drive')"
      ],
      "metadata": {
        "id": "gUN3eXnEWm5w",
        "colab": {
          "base_uri": "https://localhost:8080/"
        },
        "outputId": "2a480b20-121c-4fba-e43b-c83c5b0e0b69"
      },
      "execution_count": 1,
      "outputs": [
        {
          "output_type": "stream",
          "name": "stdout",
          "text": [
            "Drive already mounted at /content/drive; to attempt to forcibly remount, call drive.mount(\"/content/drive\", force_remount=True).\n"
          ]
        }
      ]
    },
    {
      "cell_type": "code",
      "source": [
        "%cd /content/drive/MyDrive/FS_Attack-main"
      ],
      "metadata": {
        "colab": {
          "base_uri": "https://localhost:8080/"
        },
        "id": "CvvnBFrxW3QZ",
        "outputId": "a6fd8cae-9aa7-464b-fe9b-0468c271cf61"
      },
      "execution_count": 2,
      "outputs": [
        {
          "output_type": "stream",
          "name": "stdout",
          "text": [
            "/content/drive/MyDrive/FS_Attack-main\n"
          ]
        }
      ]
    },
    {
      "cell_type": "code",
      "source": [
        "import argparse\n",
        "import torch\n",
        "import torchvision\n",
        "import torch.nn.functional as F\n",
        "import numpy as np\n",
        "import json"
      ],
      "metadata": {
        "id": "1xf5lkrS4M--"
      },
      "execution_count": 3,
      "outputs": []
    },
    {
      "cell_type": "code",
      "source": [
        "from nn.utils import clamp"
      ],
      "metadata": {
        "id": "1arXVZh8l97K",
        "colab": {
          "base_uri": "https://localhost:8080/"
        },
        "outputId": "b23e9d92-4a8e-472c-e087-84b7041e57ca"
      },
      "execution_count": 4,
      "outputs": [
        {
          "output_type": "stream",
          "name": "stdout",
          "text": [
            "no display found. Using non-interactive Agg backend\n"
          ]
        }
      ]
    },
    {
      "cell_type": "markdown",
      "metadata": {
        "id": "tkzhJsv9WAFx"
      },
      "source": [
        "### 基本設定\n",
        "### Basic Configuration"
      ]
    },
    {
      "cell_type": "markdown",
      "metadata": {
        "id": "Jj19h64fWAFy"
      },
      "source": [
        "### 讀取圖片 Read Pictures"
      ]
    },
    {
      "cell_type": "code",
      "source": [
        "case = '0'\n",
        "exp_method = 'lrp' #  choices=['lrp', 'guided_backprop', 'gradient', 'integrated_grad', 'pattern_attribution', 'grad_times_input']\n",
        "\n",
        "img = 'tmp_image/'+case+'.jpeg'\n",
        "\n",
        "lr = 0.0002\n",
        "cuda = True\n",
        "output_dir = 'temp_result/'\n",
        "beta_growth = True\n",
        "prefactors = [1e4, 1e10, 1e-4] # 4 10 -4\n",
        "device = torch.device(\"cuda\" if cuda else \"cpu\")"
      ],
      "metadata": {
        "id": "pJqecn1o4Xth"
      },
      "execution_count": 5,
      "outputs": []
    },
    {
      "cell_type": "markdown",
      "metadata": {
        "id": "njcFzaW7WAFy"
      },
      "source": [
        "### 讀取model"
      ]
    },
    {
      "cell_type": "code",
      "source": [
        "import torch\n",
        "import torchvision.models as models\n",
        "# Load a pre-trained ResNet50 model\n",
        "model = models.resnet50(weights=True)\n",
        "model.eval()  # Set to evaluation mode\n",
        "model.to(device)  # Move the model to the GPU if available\n",
        "model = model"
      ],
      "metadata": {
        "colab": {
          "base_uri": "https://localhost:8080/"
        },
        "id": "hTGeEx9O3VG8",
        "outputId": "3d23cae9-50b0-437d-cdff-dde1bb291f66"
      },
      "execution_count": 6,
      "outputs": [
        {
          "output_type": "stream",
          "name": "stderr",
          "text": [
            "/usr/local/lib/python3.10/dist-packages/torchvision/models/_utils.py:223: UserWarning: Arguments other than a weight enum or `None` for 'weights' are deprecated since 0.13 and may be removed in the future. The current behavior is equivalent to passing `weights=ResNet50_Weights.IMAGENET1K_V1`. You can also use `weights=ResNet50_Weights.DEFAULT` to get the most up-to-date weights.\n",
            "  warnings.warn(msg)\n"
          ]
        }
      ]
    },
    {
      "cell_type": "code",
      "source": [
        "from torchvision import transforms\n",
        "from PIL import Image\n",
        "\n",
        "# Define the preprocessing transformation\n",
        "preprocess = transforms.Compose([\n",
        "    transforms.Resize((224, 224)),\n",
        "    transforms.ToTensor(),\n",
        "    transforms.Normalize(mean=[0.485, 0.456, 0.406], std=[0.229, 0.224, 0.225])\n",
        "])\n",
        "\n",
        "# Load and preprocess the image directly with PIL\n",
        "img_path = 'tmp_image/0.jpeg'  # Adjust the path if needed\n",
        "img = Image.open(img_path).convert('RGB')  # Ensure it's RGB mode\n",
        "\n",
        "# Apply the preprocessing transformations\n",
        "img_tensor = preprocess(img).unsqueeze(0)\n"
      ],
      "metadata": {
        "id": "2_mWxGkxhZ8Y"
      },
      "execution_count": 7,
      "outputs": []
    },
    {
      "cell_type": "code",
      "source": [
        "x_adv = img_tensor.clone().detach().requires_grad_()"
      ],
      "metadata": {
        "id": "W9ryqRyy_9ww"
      },
      "execution_count": 8,
      "outputs": []
    },
    {
      "cell_type": "code",
      "source": [
        "data_mean = np.array([0.485, 0.456, 0.406])\n",
        "data_std = np.array([0.229, 0.224, 0.225])\n"
      ],
      "metadata": {
        "id": "9ieaGguU3AiV"
      },
      "execution_count": 9,
      "outputs": []
    },
    {
      "cell_type": "markdown",
      "metadata": {
        "id": "JRjdHsRTWAFz"
      },
      "source": [
        "### 先用實驗模型預測單張樣本\n",
        "First use the experimental model to predict a single sample"
      ]
    },
    {
      "cell_type": "code",
      "source": [
        "device = torch.device(\"cuda\" if torch.cuda.is_available() else \"cpu\")\n",
        "\n",
        "# Move the model to the device\n",
        "model = model.to(device)\n",
        "\n",
        "# Move the input tensor to the same device as the model\n",
        "img_tensor = img_tensor.to(device)\n",
        "\n",
        "# Now you can perform the forward pass\n",
        "predictions = model(img_tensor)\n"
      ],
      "metadata": {
        "id": "ROF-uHJdlgUr"
      },
      "execution_count": 10,
      "outputs": []
    },
    {
      "cell_type": "code",
      "execution_count": 11,
      "metadata": {
        "id": "i4UIr6E5WAF0",
        "outputId": "4a2d633e-54da-4d23-fec8-30bd7160a2c6",
        "colab": {
          "base_uri": "https://localhost:8080/"
        }
      },
      "outputs": [
        {
          "output_type": "stream",
          "name": "stdout",
          "text": [
            "Prediction class: 98\n",
            "ori_image\n",
            "18.065218 8.605768\n",
            "dump score diff: 9.45945\n"
          ]
        }
      ],
      "source": [
        "# predictions = model(img_tensor)\n",
        "predictions = predictions.cpu().detach().numpy()\n",
        "prediction_class = np.argmax(predictions[0])\n",
        "\n",
        "print(\"Prediction class: \" + str(prediction_class))  # Should be a doberman, class idx = 236\n",
        "origin_prediction_class = prediction_class\n",
        "#im = im_orig.astype(np.float32)\n",
        "#print('im: ',im.shape, type(im)) # im:  (299, 299, 3) <class 'numpy.ndarray'>\n",
        "print('ori_image')\n",
        "value_sort = np.sort(predictions[0])[::-1]\n",
        "print(value_sort[:2][0], value_sort[:2][1])\n",
        "score_diff = value_sort[:2][0] - value_sort[:2][1]\n",
        "print('dump score diff:',score_diff)"
      ]
    },
    {
      "cell_type": "code",
      "execution_count": 12,
      "metadata": {
        "id": "KGAJYF5QWAF0",
        "outputId": "1aad7eb3-6923-4adf-fd05-066b7f61eb2c",
        "colab": {
          "base_uri": "https://localhost:8080/"
        }
      },
      "outputs": [
        {
          "output_type": "stream",
          "name": "stdout",
          "text": [
            "label:  98  score:  18.065218\n",
            "label:  97  score:  8.605768\n",
            "label:  141  score:  8.406608\n",
            "label:  137  score:  7.8195214\n",
            "label:  99  score:  7.42487\n"
          ]
        }
      ],
      "source": [
        "value_sort = np.sort(predictions[0])[::-1]\n",
        "index_sort = np.argsort(predictions[0])[::-1]\n",
        "for i in range(5):\n",
        "    print('label: ',index_sort[:5][i], ' score: ',value_sort[:5][i])"
      ]
    },
    {
      "cell_type": "markdown",
      "source": [
        "Produce its explanation using gradcam"
      ],
      "metadata": {
        "id": "eVvzoqkRx18V"
      }
    },
    {
      "cell_type": "code",
      "source": [
        "from collections import defaultdict"
      ],
      "metadata": {
        "id": "0cGJ0soo_boJ"
      },
      "execution_count": 13,
      "outputs": []
    },
    {
      "cell_type": "code",
      "source": [
        "def get_center_attack_matrix(x, y, r, org_expl, L):\n",
        "    exp_list = org_expl.flatten()\n",
        "    exp_list_sort, exp_list_sort_idx = exp_list.sort(descending=True)\n",
        "    mtx = np.zeros((L, L))\n",
        "    counter_dict = defaultdict(int)\n",
        "    counter_dict_sum = defaultdict(int)\n",
        "\n",
        "    # Calculate distance from target (x, y)\n",
        "    for i in range(L):\n",
        "        for j in range(L):\n",
        "            n1 = np.abs(i - x) + np.abs(j - y)\n",
        "            counter_dict[n1] = counter_dict[n1] + 1\n",
        "\n",
        "    max_n1 = max(x + y, L - x + L - y)\n",
        "\n",
        "    for i in range(max_n1):\n",
        "        if i == 0:\n",
        "            counter_dict_sum[i] = 1\n",
        "        else:\n",
        "            counter_dict_sum[i] = counter_dict[i] + counter_dict_sum[i - 1]\n",
        "\n",
        "    # Populate the target matrix\n",
        "    for i in range(L):\n",
        "        for j in range(L):\n",
        "            n1 = np.abs(i - x) + np.abs(j - y)\n",
        "            if n1 == 0:\n",
        "                mtx[i, j] = exp_list_sort[0]\n",
        "            elif n1 == 1:\n",
        "                mtx[i, j] = exp_list_sort[1]\n",
        "            elif n1 < r:\n",
        "                # Add a boundary check for index access\n",
        "                if counter_dict_sum[n1 - 1] < len(exp_list_sort):\n",
        "                    mtx[i, j] = exp_list_sort[counter_dict_sum[n1 - 1]]\n",
        "                else:\n",
        "                    mtx[i, j] = exp_list_sort[-1]  # Default to the last element if index out of bounds\n",
        "            else:\n",
        "                mtx[i, j] = -exp_list_sort[counter_dict_sum[max_n1 + 1] if max_n1 + 1 < len(exp_list_sort) else -1]\n",
        "\n",
        "    return mtx\n"
      ],
      "metadata": {
        "id": "ZtNajjPq_Lp1"
      },
      "execution_count": 14,
      "outputs": []
    },
    {
      "cell_type": "markdown",
      "source": [
        " gradcam method"
      ],
      "metadata": {
        "id": "HclPAd4s6r5u"
      }
    },
    {
      "cell_type": "code",
      "source": [
        "import torch\n",
        "import torch.nn.functional as F\n",
        "\n",
        "def get_grad_cam(model, img_tensor, target_layer, pred_class=None):\n",
        "    \"\"\"\n",
        "    Compute Grad-CAM heatmap for the given image tensor and model, returning the heatmap as a PyTorch tensor.\n",
        "    \"\"\"\n",
        "    # Ensure the input tensor requires gradients\n",
        "    img_tensor.requires_grad = True\n",
        "    img_tensor = img_tensor.to(device)\n",
        "\n",
        "    # Forward pass through the model\n",
        "    output = model(img_tensor)\n",
        "\n",
        "    # If pred_class is not provided, use the model's predicted class\n",
        "    if pred_class is None:\n",
        "        pred_class = output.argmax(dim=1).item()\n",
        "\n",
        "    # Lists to store activations and gradients\n",
        "    activations = []\n",
        "    gradients = []\n",
        "\n",
        "    # Hooks to capture activations and gradients\n",
        "    def forward_hook(module, input, output):\n",
        "        activations.append(output)\n",
        "\n",
        "    def backward_hook(module, grad_input, grad_output):\n",
        "        gradients.append(grad_output[0])\n",
        "\n",
        "\n",
        "    target_layer.register_forward_hook(forward_hook)\n",
        "    target_layer.register_full_backward_hook(backward_hook)\n",
        "\n",
        "    output = model(img_tensor)\n",
        "    pred_class = output.argmax(dim=1).item()\n",
        "    model.zero_grad()\n",
        "    output[:, pred_class].backward()\n",
        "\n",
        "\n",
        "   # Compute the weights (shape: [2048])\n",
        "    weights = torch.mean(gradients[0], dim=[2, 3])\n",
        "\n",
        "\n",
        "     # Compute the Grad-CAM heatmap\n",
        "    heatmap = torch.sum(weights.view(-1, 1, 1) * activations[0], dim=1).squeeze()\n",
        "\n",
        "    # After computing the heatmap\n",
        "    heatmap = torch.maximum(heatmap, torch.tensor(0.0, device=heatmap.device))  # ReLU operation\n",
        "\n",
        "    # Ensure the heatmap is not empty before normalizing\n",
        "    if heatmap.max() > 0:\n",
        "       heatmap /= heatmap.max()\n",
        "\n",
        "    # Resize the heatmap to 224x224\n",
        "    heatmap_resized = F.interpolate(heatmap.unsqueeze(0).unsqueeze(0), size=(224, 224), mode='bilinear', align_corners=False)\n",
        "\n",
        "     # The shape of heatmap_resized will now be [1, 1, 224, 224]. Squeeze the channel dimension to make it [1, 224, 224]\n",
        "    orig_expl = heatmap_resized.squeeze(1)  # Shape will be [1, 224, 224]\n",
        "\n",
        "\n",
        "    # Softmax for accuracy\n",
        "    acc = F.softmax(output, dim=1)\n",
        "\n",
        "    # Return the heatmap as a tensor, accuracy tensor, and predicted class index\n",
        "    return orig_expl, acc, pred_class\n"
      ],
      "metadata": {
        "id": "upMRwnYuhmED"
      },
      "execution_count": 31,
      "outputs": []
    },
    {
      "cell_type": "code",
      "source": [
        "# Call the get_grad_cam function to compute the Grad-CAM heatmap\n",
        "orig_expl, orig_acc, class_idx = get_grad_cam(model, img_tensor, model.layer4[-1])\n"
      ],
      "metadata": {
        "id": "zhgPXs1_hxNj"
      },
      "execution_count": 32,
      "outputs": []
    },
    {
      "cell_type": "code",
      "source": [
        "import cv2\n",
        "import numpy as np\n",
        "from google.colab.patches import cv2_imshow\n",
        "\n",
        "\n",
        "# Convert img_tensor to numpy and unnormalize\n",
        "img_np = img_tensor.squeeze(0).permute(1, 2, 0).detach().cpu().numpy()  # Shape: (224, 224, 3)\n",
        "img_np = (img_np * np.array([0.229, 0.224, 0.225])) + np.array([0.485, 0.456, 0.406])  # Unnormalize\n",
        "img_np = np.clip(img_np, 0, 1)  # Clip values to be between 0 and 1\n",
        "\n",
        "# Resize the heatmap (orig_expl) to match the size of the image\n",
        "heatmap_resized = cv2.resize(orig_expl.squeeze(0).cpu().detach().numpy(), (img_np.shape[1], img_np.shape[0]))  # Shape: (224, 224)\n",
        "\n",
        "# Ensure heatmap is a 2D single-channel array and scale it to 0-255\n",
        "heatmap_resized = np.uint8(255 * heatmap_resized)  # Convert heatmap to uint8\n",
        "\n",
        "# Apply colormap to the heatmap\n",
        "heatmap_colored = cv2.applyColorMap(heatmap_resized, cv2.COLORMAP_JET)  # Shape: (224, 224, 3)\n",
        "\n",
        "# Overlay the heatmap on the original image\n",
        "superimposed_img = cv2.addWeighted(np.uint8(255 * img_np), 0.6, heatmap_colored, 0.4, 0)\n",
        "\n",
        "# Display the result\n",
        "cv2_imshow(superimposed_img)\n"
      ],
      "metadata": {
        "colab": {
          "base_uri": "https://localhost:8080/",
          "height": 241
        },
        "id": "ZUPJXThx3r56",
        "outputId": "cabe5929-dec3-4591-f87d-d9623b82e709"
      },
      "execution_count": 33,
      "outputs": [
        {
          "output_type": "display_data",
          "data": {
            "text/plain": [
              "<PIL.Image.Image image mode=RGB size=224x224>"
            ],
            "image/png": "[encoded data removed]"
          },
          "metadata": {}
        }
      ]
    },
    {
      "cell_type": "code",
      "source": [
        "# target attack\n",
        "target_mtx = get_center_attack_matrix(200, 200, 35, orig_expl, 224)\n",
        "target_mtx_torch = torch.tensor(target_mtx)\n",
        "target_mtx_torch = target_mtx_torch.view(1,224,224)\n",
        "target_mtx_torch = target_mtx_torch.to(device)\n",
        "target_mtx_torch = target_mtx_torch.float()\n",
        "#target_mtx_torch = torch.tensor(target_mtx).squeeze(0).to(device).float()  # Shape [1, 1, 224, 224]\n",
        "\n",
        "\n",
        "optimizer = torch.optim.Adam([x_adv], lr=lr)"
      ],
      "metadata": {
        "id": "avzlts8a9QRJ"
      },
      "execution_count": 34,
      "outputs": []
    },
    {
      "cell_type": "code",
      "source": [
        "print(target_mtx_torch.shape)\n",
        "print(orig_expl.shape)"
      ],
      "metadata": {
        "colab": {
          "base_uri": "https://localhost:8080/"
        },
        "id": "vL5GVfgqrXzx",
        "outputId": "2cc2cba7-aa2e-4608-8c9e-a7590592611c"
      },
      "execution_count": 35,
      "outputs": [
        {
          "output_type": "stream",
          "name": "stdout",
          "text": [
            "torch.Size([1, 224, 224])\n",
            "torch.Size([1, 224, 224])\n"
          ]
        }
      ]
    },
    {
      "cell_type": "markdown",
      "metadata": {
        "id": "iIKEKYPtWAF0"
      },
      "source": [
        "### 攻擊開始\n",
        "### Attack begins"
      ]
    },
    {
      "cell_type": "markdown",
      "source": [
        "Experimenting 2 cell"
      ],
      "metadata": {
        "id": "PhiUif5I1gOx"
      }
    },
    {
      "cell_type": "code",
      "source": [
        "num_iter = 100\n",
        "torch.autograd.set_detect_anomaly(True)"
      ],
      "metadata": {
        "id": "3VyBOxJ3Ac-y",
        "colab": {
          "base_uri": "https://localhost:8080/"
        },
        "outputId": "07b43836-208a-45e7-a9c3-c372ff7ceb15"
      },
      "execution_count": 36,
      "outputs": [
        {
          "output_type": "execute_result",
          "data": {
            "text/plain": [
              "<torch.autograd.anomaly_mode.set_detect_anomaly at 0x7cb6081287c0>"
            ]
          },
          "metadata": {},
          "execution_count": 36
        }
      ]
    },
    {
      "cell_type": "code",
      "source": [
        "total_loss_list = []\n",
        "epoch_exp = []\n",
        "L1_score = []\n",
        "L2_score = []\n",
        "L3_score = []\n",
        "L4_score = []\n",
        "L5_score = []\n",
        "\n",
        "early_stop_epoch = 0\n",
        "mode_2_loss = False\n",
        "EARLY_STOP = True #False\n",
        "for i in range(num_iter):\n",
        "\n",
        "    optimizer.zero_grad()\n",
        "\n",
        "    # calculate loss\n",
        "    adv_expl, adv_acc, class_idx = get_grad_cam(model, x_adv, model.layer4[-1])\n",
        "\n",
        "    loss_center = F.mse_loss(adv_expl, target_mtx_torch)\n",
        "    loss_output = F.mse_loss(adv_acc[0][prediction_class], orig_acc[0][prediction_class].detach())\n",
        "\n",
        "    if mode_2_loss:\n",
        "        total_loss = prefactors[0]*loss_output + prefactors[1]*loss_center\n",
        "    else:\n",
        "        total_loss = prefactors[0]*loss_output + prefactors[1]*loss_center\n",
        "\n",
        "    total_loss_list.append(total_loss.item())\n",
        "    #x_tmp = x_adv\n",
        "    x_tmp = x_adv.clone().detach().requires_grad_(True)\n",
        "    # update adversarial example\n",
        "    total_loss.backward(retain_graph=True)\n",
        "    optimizer.step()\n",
        "    predictions = model(x_adv)\n",
        "    predictions = predictions.cpu().detach().numpy()\n",
        "    if (value_sort[:2][0] - value_sort[:2][1]) < 1 :\n",
        "        mode_2_loss = True\n",
        "    #print(i,predictions[0][prediction_class], value_sort[:2][0], value_sort[:2][1])\n",
        "    L1_score.append(predictions[0][index_sort[:5][0]])\n",
        "    L2_score.append(predictions[0][index_sort[:5][1]])\n",
        "    L3_score.append(predictions[0][index_sort[:5][2]])\n",
        "    L4_score.append(predictions[0][index_sort[:5][3]])\n",
        "    L5_score.append(predictions[0][index_sort[:5][4]])\n",
        "    prediction_class_tmp = np.argmax(predictions[0])\n",
        "    if(prediction_class != prediction_class_tmp):\n",
        "        print(i,'early done')\n",
        "        early_stop_epoch = i\n",
        "        if EARLY_STOP == True:\n",
        "            x_adv = x_tmp\n",
        "            break\n",
        "\n",
        "    #x_adv.data = clamp(x_adv.data, data_mean, data_std)\n",
        "    x_adv_clamped = clamp(x_adv, data_mean, data_std)\n",
        "    x_adv = x_adv_clamped.clone().detach().requires_grad_(True)\n",
        "    if i == 1:\n",
        "        print(\"Iteration {}: Total Loss: {}, Gini Loss: {}, Output Loss: {}\".format(i, total_loss.item(), loss_center.item(), loss_output.item()))\n",
        "    #print(\"Iteration {}: Total Loss: {}, Expl Loss: {}, Output Loss: {}\".format(i, total_loss.item(), loss_expl.item(), loss_output.item()))\n",
        "\n",
        "    if (i+1)%50 == 0:\n",
        "        print(\"Iteration {}: Total Loss: {}, Gini Loss: {}, Output Loss: {}\".format(i, total_loss.item(), loss_center.item(), loss_output.item()))\n",
        "        epoch_exp.append(adv_expl)\n",
        "\n"
      ],
      "metadata": {
        "colab": {
          "base_uri": "https://localhost:8080/",
          "height": 1000
        },
        "id": "P2ZnOVSy4GwH",
        "outputId": "e441e9eb-e699-47ef-aa25-34eb9495cdda"
      },
      "execution_count": 37,
      "outputs": [
        {
          "output_type": "stream",
          "name": "stderr",
          "text": [
            "/usr/local/lib/python3.10/dist-packages/torch/autograd/graph.py:768: UserWarning: Error detected in MaxBackward1. Traceback of forward call that caused the error:\n",
            "  File \"/usr/lib/python3.10/runpy.py\", line 196, in _run_module_as_main\n",
            "    return _run_code(code, main_globals, None,\n",
            "  File \"/usr/lib/python3.10/runpy.py\", line 86, in _run_code\n",
            "    exec(code, run_globals)\n",
            "  File \"/usr/local/lib/python3.10/dist-packages/colab_kernel_launcher.py\", line 37, in <module>\n",
            "    ColabKernelApp.launch_instance()\n",
            "  File \"/usr/local/lib/python3.10/dist-packages/traitlets/config/application.py\", line 992, in launch_instance\n",
            "    app.start()\n",
            "  File \"/usr/local/lib/python3.10/dist-packages/ipykernel/kernelapp.py\", line 619, in start\n",
            "    self.io_loop.start()\n",
            "  File \"/usr/local/lib/python3.10/dist-packages/tornado/platform/asyncio.py\", line 195, in start\n",
            "    self.asyncio_loop.run_forever()\n",
            "  File \"/usr/lib/python3.10/asyncio/base_events.py\", line 603, in run_forever\n",
            "    self._run_once()\n",
            "  File \"/usr/lib/python3.10/asyncio/base_events.py\", line 1909, in _run_once\n",
            "    handle._run()\n",
            "  File \"/usr/lib/python3.10/asyncio/events.py\", line 80, in _run\n",
            "    self._context.run(self._callback, *self._args)\n",
            "  File \"/usr/local/lib/python3.10/dist-packages/tornado/ioloop.py\", line 685, in <lambda>\n",
            "    lambda f: self._run_callback(functools.partial(callback, future))\n",
            "  File \"/usr/local/lib/python3.10/dist-packages/tornado/ioloop.py\", line 738, in _run_callback\n",
            "    ret = callback()\n",
            "  File \"/usr/local/lib/python3.10/dist-packages/tornado/gen.py\", line 825, in inner\n",
            "    self.ctx_run(self.run)\n",
            "  File \"/usr/local/lib/python3.10/dist-packages/tornado/gen.py\", line 786, in run\n",
            "    yielded = self.gen.send(value)\n",
            "  File \"/usr/local/lib/python3.10/dist-packages/ipykernel/kernelbase.py\", line 377, in dispatch_queue\n",
            "    yield self.process_one()\n",
            "  File \"/usr/local/lib/python3.10/dist-packages/tornado/gen.py\", line 250, in wrapper\n",
            "    runner = Runner(ctx_run, result, future, yielded)\n",
            "  File \"/usr/local/lib/python3.10/dist-packages/tornado/gen.py\", line 748, in __init__\n",
            "    self.ctx_run(self.run)\n",
            "  File \"/usr/local/lib/python3.10/dist-packages/tornado/gen.py\", line 786, in run\n",
            "    yielded = self.gen.send(value)\n",
            "  File \"/usr/local/lib/python3.10/dist-packages/ipykernel/kernelbase.py\", line 361, in process_one\n",
            "    yield gen.maybe_future(dispatch(*args))\n",
            "  File \"/usr/local/lib/python3.10/dist-packages/tornado/gen.py\", line 234, in wrapper\n",
            "    yielded = ctx_run(next, result)\n",
            "  File \"/usr/local/lib/python3.10/dist-packages/ipykernel/kernelbase.py\", line 261, in dispatch_shell\n",
            "    yield gen.maybe_future(handler(stream, idents, msg))\n",
            "  File \"/usr/local/lib/python3.10/dist-packages/tornado/gen.py\", line 234, in wrapper\n",
            "    yielded = ctx_run(next, result)\n",
            "  File \"/usr/local/lib/python3.10/dist-packages/ipykernel/kernelbase.py\", line 539, in execute_request\n",
            "    self.do_execute(\n",
            "  File \"/usr/local/lib/python3.10/dist-packages/tornado/gen.py\", line 234, in wrapper\n",
            "    yielded = ctx_run(next, result)\n",
            "  File \"/usr/local/lib/python3.10/dist-packages/ipykernel/ipkernel.py\", line 302, in do_execute\n",
            "    res = shell.run_cell(code, store_history=store_history, silent=silent)\n",
            "  File \"/usr/local/lib/python3.10/dist-packages/ipykernel/zmqshell.py\", line 539, in run_cell\n",
            "    return super(ZMQInteractiveShell, self).run_cell(*args, **kwargs)\n",
            "  File \"/usr/local/lib/python3.10/dist-packages/IPython/core/interactiveshell.py\", line 2975, in run_cell\n",
            "    result = self._run_cell(\n",
            "  File \"/usr/local/lib/python3.10/dist-packages/IPython/core/interactiveshell.py\", line 3030, in _run_cell\n",
            "    return runner(coro)\n",
            "  File \"/usr/local/lib/python3.10/dist-packages/IPython/core/async_helpers.py\", line 78, in _pseudo_sync_runner\n",
            "    coro.send(None)\n",
            "  File \"/usr/local/lib/python3.10/dist-packages/IPython/core/interactiveshell.py\", line 3257, in run_cell_async\n",
            "    has_raised = await self.run_ast_nodes(code_ast.body, cell_name,\n",
            "  File \"/usr/local/lib/python3.10/dist-packages/IPython/core/interactiveshell.py\", line 3473, in run_ast_nodes\n",
            "    if (await self.run_code(code, result,  async_=asy)):\n",
            "  File \"/usr/local/lib/python3.10/dist-packages/IPython/core/interactiveshell.py\", line 3553, in run_code\n",
            "    exec(code_obj, self.user_global_ns, self.user_ns)\n",
            "  File \"<ipython-input-37-78617a795fdc>\", line 17, in <cell line: 12>\n",
            "    adv_expl, adv_acc, class_idx = get_grad_cam(model, x_adv, model.layer4[-1])\n",
            "  File \"<ipython-input-31-38a18b54dc1f>\", line 52, in get_grad_cam\n",
            "    heatmap /= heatmap.max()\n",
            " (Triggered internally at ../torch/csrc/autograd/python_anomaly_mode.cpp:111.)\n",
            "  return Variable._execution_engine.run_backward(  # Calls into the C++ engine to run the backward pass\n"
          ]
        },
        {
          "output_type": "error",
          "ename": "RuntimeError",
          "evalue": "one of the variables needed for gradient computation has been modified by an inplace operation: [torch.cuda.FloatTensor [7, 7]], which is output 0 of DivBackward0, is at version 1; expected version 0 instead. Hint: the backtrace further above shows the operation that failed to compute its gradient. The variable in question was changed in there or anywhere later. Good luck!",
          "traceback": [
            "\u001b[0;31m---------------------------------------------------------------------------\u001b[0m",
            "\u001b[0;31mRuntimeError\u001b[0m                              Traceback (most recent call last)",
            "\u001b[0;32m<ipython-input-37-78617a795fdc>\u001b[0m in \u001b[0;36m<cell line: 12>\u001b[0;34m()\u001b[0m\n\u001b[1;32m     29\u001b[0m     \u001b[0mx_tmp\u001b[0m \u001b[0;34m=\u001b[0m \u001b[0mx_adv\u001b[0m\u001b[0;34m.\u001b[0m\u001b[0mclone\u001b[0m\u001b[0;34m(\u001b[0m\u001b[0;34m)\u001b[0m\u001b[0;34m.\u001b[0m\u001b[0mdetach\u001b[0m\u001b[0;34m(\u001b[0m\u001b[0;34m)\u001b[0m\u001b[0;34m.\u001b[0m\u001b[0mrequires_grad_\u001b[0m\u001b[0;34m(\u001b[0m\u001b[0;32mTrue\u001b[0m\u001b[0;34m)\u001b[0m\u001b[0;34m\u001b[0m\u001b[0;34m\u001b[0m\u001b[0m\n\u001b[1;32m     30\u001b[0m     \u001b[0;31m# update adversarial example\u001b[0m\u001b[0;34m\u001b[0m\u001b[0;34m\u001b[0m\u001b[0m\n\u001b[0;32m---> 31\u001b[0;31m     \u001b[0mtotal_loss\u001b[0m\u001b[0;34m.\u001b[0m\u001b[0mbackward\u001b[0m\u001b[0;34m(\u001b[0m\u001b[0mretain_graph\u001b[0m\u001b[0;34m=\u001b[0m\u001b[0;32mTrue\u001b[0m\u001b[0;34m)\u001b[0m\u001b[0;34m\u001b[0m\u001b[0;34m\u001b[0m\u001b[0m\n\u001b[0m\u001b[1;32m     32\u001b[0m     \u001b[0moptimizer\u001b[0m\u001b[0;34m.\u001b[0m\u001b[0mstep\u001b[0m\u001b[0;34m(\u001b[0m\u001b[0;34m)\u001b[0m\u001b[0;34m\u001b[0m\u001b[0;34m\u001b[0m\u001b[0m\n\u001b[1;32m     33\u001b[0m     \u001b[0mpredictions\u001b[0m \u001b[0;34m=\u001b[0m \u001b[0mmodel\u001b[0m\u001b[0;34m(\u001b[0m\u001b[0mx_adv\u001b[0m\u001b[0;34m)\u001b[0m\u001b[0;34m\u001b[0m\u001b[0;34m\u001b[0m\u001b[0m\n",
            "\u001b[0;32m/usr/local/lib/python3.10/dist-packages/torch/_tensor.py\u001b[0m in \u001b[0;36mbackward\u001b[0;34m(self, gradient, retain_graph, create_graph, inputs)\u001b[0m\n\u001b[1;32m    519\u001b[0m                 \u001b[0minputs\u001b[0m\u001b[0;34m=\u001b[0m\u001b[0minputs\u001b[0m\u001b[0;34m,\u001b[0m\u001b[0;34m\u001b[0m\u001b[0;34m\u001b[0m\u001b[0m\n\u001b[1;32m    520\u001b[0m             )\n\u001b[0;32m--> 521\u001b[0;31m         torch.autograd.backward(\n\u001b[0m\u001b[1;32m    522\u001b[0m             \u001b[0mself\u001b[0m\u001b[0;34m,\u001b[0m \u001b[0mgradient\u001b[0m\u001b[0;34m,\u001b[0m \u001b[0mretain_graph\u001b[0m\u001b[0;34m,\u001b[0m \u001b[0mcreate_graph\u001b[0m\u001b[0;34m,\u001b[0m \u001b[0minputs\u001b[0m\u001b[0;34m=\u001b[0m\u001b[0minputs\u001b[0m\u001b[0;34m\u001b[0m\u001b[0;34m\u001b[0m\u001b[0m\n\u001b[1;32m    523\u001b[0m         )\n",
            "\u001b[0;32m/usr/local/lib/python3.10/dist-packages/torch/autograd/__init__.py\u001b[0m in \u001b[0;36mbackward\u001b[0;34m(tensors, grad_tensors, retain_graph, create_graph, grad_variables, inputs)\u001b[0m\n\u001b[1;32m    287\u001b[0m     \u001b[0;31m# some Python versions print out the first line of a multi-line function\u001b[0m\u001b[0;34m\u001b[0m\u001b[0;34m\u001b[0m\u001b[0m\n\u001b[1;32m    288\u001b[0m     \u001b[0;31m# calls in the traceback and some print out the last line\u001b[0m\u001b[0;34m\u001b[0m\u001b[0;34m\u001b[0m\u001b[0m\n\u001b[0;32m--> 289\u001b[0;31m     _engine_run_backward(\n\u001b[0m\u001b[1;32m    290\u001b[0m         \u001b[0mtensors\u001b[0m\u001b[0;34m,\u001b[0m\u001b[0;34m\u001b[0m\u001b[0;34m\u001b[0m\u001b[0m\n\u001b[1;32m    291\u001b[0m         \u001b[0mgrad_tensors_\u001b[0m\u001b[0;34m,\u001b[0m\u001b[0;34m\u001b[0m\u001b[0;34m\u001b[0m\u001b[0m\n",
            "\u001b[0;32m/usr/local/lib/python3.10/dist-packages/torch/autograd/graph.py\u001b[0m in \u001b[0;36m_engine_run_backward\u001b[0;34m(t_outputs, *args, **kwargs)\u001b[0m\n\u001b[1;32m    766\u001b[0m         \u001b[0munregister_hooks\u001b[0m \u001b[0;34m=\u001b[0m \u001b[0m_register_logging_hooks_on_whole_graph\u001b[0m\u001b[0;34m(\u001b[0m\u001b[0mt_outputs\u001b[0m\u001b[0;34m)\u001b[0m\u001b[0;34m\u001b[0m\u001b[0;34m\u001b[0m\u001b[0m\n\u001b[1;32m    767\u001b[0m     \u001b[0;32mtry\u001b[0m\u001b[0;34m:\u001b[0m\u001b[0;34m\u001b[0m\u001b[0;34m\u001b[0m\u001b[0m\n\u001b[0;32m--> 768\u001b[0;31m         return Variable._execution_engine.run_backward(  # Calls into the C++ engine to run the backward pass\n\u001b[0m\u001b[1;32m    769\u001b[0m             \u001b[0mt_outputs\u001b[0m\u001b[0;34m,\u001b[0m \u001b[0;34m*\u001b[0m\u001b[0margs\u001b[0m\u001b[0;34m,\u001b[0m \u001b[0;34m**\u001b[0m\u001b[0mkwargs\u001b[0m\u001b[0;34m\u001b[0m\u001b[0;34m\u001b[0m\u001b[0m\n\u001b[1;32m    770\u001b[0m         )  # Calls into the C++ engine to run the backward pass\n",
            "\u001b[0;31mRuntimeError\u001b[0m: one of the variables needed for gradient computation has been modified by an inplace operation: [torch.cuda.FloatTensor [7, 7]], which is output 0 of DivBackward0, is at version 1; expected version 0 instead. Hint: the backtrace further above shows the operation that failed to compute its gradient. The variable in question was changed in there or anywhere later. Good luck!"
          ]
        }
      ]
    },
    {
      "cell_type": "markdown",
      "source": [
        "# #############################upto this , we are doing ################################################################"
      ],
      "metadata": {
        "id": "ruyGLDgQ453E"
      }
    },
    {
      "cell_type": "code",
      "source": [],
      "metadata": {
        "id": "dZpxL8SCuz2Y"
      },
      "execution_count": null,
      "outputs": []
    }
  ],
  "metadata": {
    "kernelspec": {
      "display_name": "Python 3",
      "name": "python3"
    },
    "language_info": {
      "codemirror_mode": {
        "name": "ipython",
        "version": 3
      },
      "file_extension": ".py",
      "mimetype": "text/x-python",
      "name": "python",
      "nbconvert_exporter": "python",
      "pygments_lexer": "ipython3",
      "version": "3.6.9"
    },
    "colab": {
      "provenance": [],
      "gpuType": "T4",
      "include_colab_link": true
    },
    "accelerator": "GPU"
  },
  "nbformat": 4,
  "nbformat_minor": 0
}